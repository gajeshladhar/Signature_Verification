{
  "nbformat": 4,
  "nbformat_minor": 0,
  "metadata": {
    "colab": {
      "name": "Sign_Verify.ipynb",
      "provenance": [],
      "collapsed_sections": []
    },
    "kernelspec": {
      "name": "python3",
      "display_name": "Python 3"
    },
    "accelerator": "GPU"
  },
  "cells": [
    {
      "cell_type": "markdown",
      "metadata": {
        "id": "6gJEnlY_SItG",
        "colab_type": "text"
      },
      "source": [
        "\n",
        "\n",
        "```\n",
        "\n",
        "Signature Verification using Siamese Network \n",
        "\n",
        "Details : \n",
        "1) We used Siamese Network connected with dense layer at the end which will decide either 0 or 1.\n",
        "\n",
        "2) We Trained our Model on Online Available Signature Dataset which consists 54,408 Pairs of Real Signature and Forged Signature.\n",
        "\n",
        "\n",
        "```\n",
        "\n"
      ]
    },
    {
      "cell_type": "code",
      "metadata": {
        "id": "hWazdiNgtmY9",
        "colab_type": "code",
        "colab": {}
      },
      "source": [
        "import pandas as pd\n",
        "import numpy as np\n",
        "import PIL.Image as Image\n",
        "from PIL import ImageOps \n",
        "import dill\n",
        "import tensorflow as tf\n",
        "from tensorflow.keras.layers import *\n",
        "from google.colab import output\n",
        "import matplotlib.pyplot as plt"
      ],
      "execution_count": 1,
      "outputs": []
    },
    {
      "cell_type": "code",
      "metadata": {
        "id": "7KDPGWO-sT6r",
        "colab_type": "code",
        "colab": {}
      },
      "source": [
        "tf.keras.backend.set_floatx('float64')"
      ],
      "execution_count": 2,
      "outputs": []
    },
    {
      "cell_type": "markdown",
      "metadata": {
        "id": "DXyiQ_NuKkoY",
        "colab_type": "text"
      },
      "source": [
        "<br><hr>\n",
        "<br>\n",
        " **Data Loading** <br>"
      ]
    },
    {
      "cell_type": "code",
      "metadata": {
        "id": "5TmwM8Y1uMKP",
        "colab_type": "code",
        "colab": {}
      },
      "source": [
        "dataset=pd.read_csv('/content/drive/My Drive/Datasets/Signature_Verify/Dataset_Signature_Final/Dataset/data.csv')"
      ],
      "execution_count": 3,
      "outputs": []
    },
    {
      "cell_type": "code",
      "metadata": {
        "id": "069BtUR2HjAe",
        "colab_type": "code",
        "colab": {}
      },
      "source": [
        "x_dataset=dataset.iloc[:,[1,0,2]]"
      ],
      "execution_count": 4,
      "outputs": []
    },
    {
      "cell_type": "code",
      "metadata": {
        "id": "IhSIQaBRIZzU",
        "colab_type": "code",
        "colab": {}
      },
      "source": [
        "dataset=pd.concat([dataset,x_dataset])"
      ],
      "execution_count": 5,
      "outputs": []
    },
    {
      "cell_type": "code",
      "metadata": {
        "id": "yqfzBdigR-nC",
        "colab_type": "code",
        "colab": {}
      },
      "source": [
        "indices=list(range(len(dataset)))\n",
        "np.random.shuffle(indices)\n",
        "dataset=dataset.iloc[indices]"
      ],
      "execution_count": 6,
      "outputs": []
    },
    {
      "cell_type": "code",
      "metadata": {
        "id": "ZTZ3lUbvZbAO",
        "colab_type": "code",
        "colab": {}
      },
      "source": [
        "val_dataset=pd.read_csv('/content/drive/My Drive/Datasets/Signature_Verify/sign_data/test_data.csv')\n",
        "val_dataset.iloc[:,2]=1-val_dataset.iloc[:,2]\n",
        "val_dataset.iloc[:,0:2]='/content/drive/My Drive/Datasets/Signature_Verify/sign_data/test/'+val_dataset.iloc[:,0:2]"
      ],
      "execution_count": 7,
      "outputs": []
    },
    {
      "cell_type": "code",
      "metadata": {
        "id": "7D_JZGxWRvCK",
        "colab_type": "code",
        "colab": {}
      },
      "source": [
        "indices=list(range(len(val_dataset)))\n",
        "np.random.shuffle(indices)\n",
        "val_dataset=val_dataset.iloc[indices]"
      ],
      "execution_count": 8,
      "outputs": []
    },
    {
      "cell_type": "markdown",
      "metadata": {
        "id": "bP0Wl5J_KqUC",
        "colab_type": "text"
      },
      "source": [
        "<br><hr>\n",
        "<br>\n",
        " **Defining Data Generators** <br>"
      ]
    },
    {
      "cell_type": "code",
      "metadata": {
        "id": "s9aMhMV8htMj",
        "colab_type": "code",
        "colab": {}
      },
      "source": [
        "def keras_train_gen(batch_size=32):\n",
        "  #Image size : 200x200x3\n",
        "  X=np.zeros((batch_size,2,200,200,1))\n",
        "  Y=np.zeros((batch_size,1))\n",
        "\n",
        "  i=0\n",
        "  while(True):\n",
        "    if i>=len(dataset)-(batch_size) :\n",
        "      i=(i%(len(dataset)))-(batch_size+1) \n",
        "\n",
        "    for j in range(i,i+batch_size):\n",
        "      img1=np.expand_dims(np.array(ImageOps.grayscale(Image.open(dataset.iloc[j,0]).resize((200,200)))),axis=-1)\n",
        "      img2=np.expand_dims(np.array(ImageOps.grayscale(Image.open(dataset.iloc[j,1]).resize((200,200)))),axis=-1)\n",
        "      \n",
        "      for p in range(200):\n",
        "        for q in range(200):\n",
        "          if img1[p,q]>240 :\n",
        "            img1[p,q]=0\n",
        "          else :\n",
        "            img1[p,q]=255\n",
        "\n",
        "      for p in range(200):\n",
        "        for q in range(200):\n",
        "          if img2[p,q]>240 :\n",
        "            img2[p,q]=0\n",
        "          else :\n",
        "            img2[p,q]=255\n",
        "\n",
        "      X[j-i,0]=img1\n",
        "      X[j-i,1]=img2\n",
        "      Y[j-i]=dataset.iloc[j,2]\n",
        "    i=i+batch_size\n",
        "    X=X/255.0\n",
        "\n",
        "    yield [X[:,0,:,:,:],X[:,1,:,:,:]],Y"
      ],
      "execution_count": 9,
      "outputs": []
    },
    {
      "cell_type": "code",
      "metadata": {
        "id": "2EIOzskAh5XM",
        "colab_type": "code",
        "colab": {}
      },
      "source": [
        "def keras_val_gen(batch_size):\n",
        "  #Image size : 200x200x1\n",
        "  X=np.zeros((batch_size,2,200,200,1))\n",
        "  Y=np.zeros((batch_size,1))\n",
        "\n",
        "  i=0\n",
        "  while(True):\n",
        "    if i>=len(val_dataset)-(batch_size) :\n",
        "      i=(i%(len(val_dataset)))-(batch_size+1) \n",
        "    for j in range(i,i+batch_size):\n",
        "      img1=np.expand_dims(np.array(ImageOps.grayscale(Image.open(val_dataset.iloc[j,0]).resize((200,200)))),axis=-1)\n",
        "      img2=np.expand_dims(np.array(ImageOps.grayscale(Image.open(val_dataset.iloc[j,1]).resize((200,200)))),axis=-1)\n",
        "      \n",
        "      for p in range(200):\n",
        "        for q in range(200):\n",
        "          if img1[p,q]>240 :\n",
        "            img1[p,q]=0\n",
        "          else :\n",
        "            img1[p,q]=255\n",
        "\n",
        "      for p in range(200):\n",
        "        for q in range(200):\n",
        "          if img2[p,q]>240 :\n",
        "            img2[p,q]=0\n",
        "          else :\n",
        "            img2[p,q]=255\n",
        "      \n",
        "      X[j-i,0]=img1\n",
        "      X[j-i,1]=img2\n",
        "      Y[j-i]=val_dataset.iloc[j,2]\n",
        "    i+=batch_size\n",
        "    X=X/255.0\n",
        "\n",
        "    yield [X[:,0,:,:,:],X[:,1,:,:,:]],Y"
      ],
      "execution_count": 10,
      "outputs": []
    },
    {
      "cell_type": "code",
      "metadata": {
        "id": "Upk0_tACVITT",
        "colab_type": "code",
        "colab": {}
      },
      "source": [
        "def distance(data):\n",
        "  return tf.sqrt(tf.reduce_sum(tf.math.square(data[0]-data[1]),axis=-1))"
      ],
      "execution_count": 11,
      "outputs": []
    },
    {
      "cell_type": "markdown",
      "metadata": {
        "id": "fIrbdryqK4iw",
        "colab_type": "text"
      },
      "source": [
        "<br><hr>\n",
        "<br>\n",
        " **Loss Function** : It reduces distance b/w same and increases b/w forged. <br>"
      ]
    },
    {
      "cell_type": "code",
      "metadata": {
        "id": "yDbJ59i7dRHj",
        "colab_type": "code",
        "colab": {}
      },
      "source": [
        "def contrastive_loss(y_true,y_pred):\n",
        "  temp=tf.math.square(tf.math.maximum(tf.cast(0.0,tf.float64),tf.cast( (1.0-tf.cast(y_true,tf.float64))*(5.0-tf.math.square(y_pred)), tf.float64 ) ) ) + tf.cast(tf.math.square(tf.math.maximum(tf.cast(2.0,tf.float64),(tf.cast(y_true,tf.float64))*(tf.math.square(y_pred)) ) ),tf.float64)\n",
        "  return temp "
      ],
      "execution_count": 12,
      "outputs": []
    },
    {
      "cell_type": "markdown",
      "metadata": {
        "id": "kE9mrmYmZin9",
        "colab_type": "text"
      },
      "source": [
        "<br><hr>\n",
        "<br>\n",
        " **Model Architecture** <br>"
      ]
    },
    {
      "cell_type": "code",
      "metadata": {
        "id": "O7xP5qI1ZWky",
        "colab_type": "code",
        "colab": {}
      },
      "source": [
        "#Define All Layers....\n",
        "\n",
        "conv2d_1=Conv2D(32,(3,3),kernel_regularizer=\"l2\")\n",
        "norm_1=BatchNormalization()\n",
        "act_1=Activation('relu')\n",
        "dropout1=Dropout(0.4)\n",
        "pool_1=MaxPool2D((2,2),strides=(2,2))\n",
        "\n",
        "conv2d_2=Conv2D(64,(3,3),kernel_regularizer=\"l2\")\n",
        "norm_2=BatchNormalization()\n",
        "act_2=Activation('relu')\n",
        "dropout2=Dropout(0.4)\n",
        "pool_2=MaxPool2D((2,2),strides=(2,2))\n",
        "\n",
        "\n",
        "conv2d_3=Conv2D(128,(3,3),kernel_regularizer=\"l2\")\n",
        "norm_3=BatchNormalization()\n",
        "act_3=Activation('relu')\n",
        "dropout3=Dropout(0.4)\n",
        "pool_3=MaxPool2D((2,2),strides=(2,2))\n",
        "\n",
        "conv2d_4=Conv2D(264,(3,3),kernel_regularizer=\"l2\")\n",
        "norm_4=BatchNormalization()\n",
        "act_4=Activation('relu')\n",
        "dropout4=Dropout(0.4)\n",
        "pool_4=MaxPool2D((2,2),strides=(2,2))\n",
        "\n",
        "flatten=Flatten()\n",
        "\n",
        "dense_1=Dense(500,kernel_regularizer=\"l2\")\n",
        "norm_5=BatchNormalization()\n",
        "act_5=Activation('relu')\n",
        "dropout5=Dropout(0.4)\n",
        "\n",
        "dense_2=Dense(400,kernel_regularizer=\"l2\")\n",
        "norm_6=BatchNormalization()\n",
        "act_6=Activation('sigmoid')\n",
        "\n",
        "dense_3=Dense(300,kernel_regularizer=\"l2\")\n",
        "norm_7=BatchNormalization()\n",
        "act7=Activation('sigmoid')\n",
        "\n",
        "custom_layer=Lambda(distance)\n",
        "\n"
      ],
      "execution_count": 13,
      "outputs": []
    },
    {
      "cell_type": "markdown",
      "metadata": {
        "id": "C_5srpINaUo9",
        "colab_type": "text"
      },
      "source": [
        "<br>\n",
        "<hr>\n",
        "\n",
        "\n",
        "\n",
        "<br> **Making Keras Model** <br>"
      ]
    },
    {
      "cell_type": "code",
      "metadata": {
        "id": "Z91CMaC6aauz",
        "colab_type": "code",
        "colab": {}
      },
      "source": [
        "def keras_model():\n",
        "  input_1=Input((200,200,1))\n",
        "  input_2=Input((200,200,1))\n",
        "\n",
        "  t=conv2d_1(input_1)\n",
        "  t=norm_1(t)\n",
        "  t=act_1(t)\n",
        "  t=dropout1(t)\n",
        "  t=pool_1(t)\n",
        "  \n",
        "  t=conv2d_2(t)\n",
        "  t=norm_2(t)\n",
        "  t=act_2(t)\n",
        "  t=dropout2(t)\n",
        "  t=pool_2(t)\n",
        "\n",
        "  t=conv2d_3(t)\n",
        "  t=norm_3(t)\n",
        "  t=act_3(t)\n",
        "  t=dropout3(t)\n",
        "  t=pool_3(t)\n",
        "\n",
        "  t=conv2d_4(t)\n",
        "  t=norm_4(t)\n",
        "  t=act_4(t)\n",
        "  t=dropout4(t)\n",
        "  t=pool_4(t)\n",
        "  \n",
        "  t=flatten(t)\n",
        "  \n",
        "  t=dense_1(t)\n",
        "  t=norm_5(t)\n",
        "  t=act_5(t)\n",
        "  t=dropout5(t)\n",
        "  \n",
        "  \n",
        "  t=dense_2(t)\n",
        "  t=norm_6(t)\n",
        "  t=act_6(t)\n",
        "\n",
        "  t=dense_3(t)\n",
        "  t=norm_7(t)\n",
        "  a=act7(t)\n",
        "\n",
        "  t1=conv2d_1(input_2)\n",
        "  t1=norm_1(t1)\n",
        "  t1=act_1(t1)\n",
        "  t=dropout1(t)\n",
        "  t1=pool_1(t1)\n",
        "  \n",
        "  t1=conv2d_2(t1)\n",
        "  t1=norm_2(t1)\n",
        "  t1=act_2(t1)\n",
        "  t=dropout2(t)\n",
        "  t1=pool_2(t1)\n",
        "\n",
        "  t1=conv2d_3(t1)\n",
        "  t1=norm_3(t1)\n",
        "  t1=act_3(t1)\n",
        "  t=dropout3(t)\n",
        "  t1=pool_3(t1)\n",
        "\n",
        "  t1=conv2d_4(t1)\n",
        "  t1=norm_4(t1)\n",
        "  t1=act_4(t1)\n",
        "  t=dropout4(t)\n",
        "  t1=pool_4(t1)\n",
        "  \n",
        "  t1=flatten(t1)\n",
        "  \n",
        "  t1=dense_1(t1)\n",
        "  t1=norm_5(t1)\n",
        "  t1=act_5(t1)\n",
        "  t=dropout5(t)\n",
        "  \n",
        "  t1=dense_2(t1)\n",
        "  t1=norm_6(t1)\n",
        "  t1=act_6(t1)\n",
        "\n",
        "  t1=dense_3(t1)\n",
        "  t1=norm_7(t1)\n",
        "  b=act7(t1)\n",
        "\n",
        "  output=custom_layer([a,b])\n",
        "\n",
        "  \n",
        "  \n",
        "  model=tf.keras.models.Model([input_1,input_2],output)\n",
        "\n",
        "  return model\n",
        "\n",
        "\n",
        "\n"
      ],
      "execution_count": 14,
      "outputs": []
    },
    {
      "cell_type": "code",
      "metadata": {
        "id": "qWIItQx4b8pK",
        "colab_type": "code",
        "colab": {}
      },
      "source": [
        "model=keras_model()"
      ],
      "execution_count": 15,
      "outputs": []
    },
    {
      "cell_type": "code",
      "metadata": {
        "id": "iXqXFPMls7mB",
        "colab_type": "code",
        "colab": {}
      },
      "source": [
        "tf.keras.utils.plot_model(\n",
        "    model,\n",
        "    to_file=\"model.png\",\n",
        "    show_shapes=False,\n",
        "    show_layer_names=True,\n",
        "    rankdir=\"TB\",\n",
        "    expand_nested=False,\n",
        "    dpi=96,\n",
        ")"
      ],
      "execution_count": null,
      "outputs": []
    },
    {
      "cell_type": "code",
      "metadata": {
        "id": "vpluZNCJhLMW",
        "colab_type": "code",
        "colab": {}
      },
      "source": [
        "model.summary()"
      ],
      "execution_count": null,
      "outputs": []
    },
    {
      "cell_type": "code",
      "metadata": {
        "id": "NX-onPFvO23-",
        "colab_type": "code",
        "colab": {}
      },
      "source": [
        "model=tf.keras.models.load_model('/content/drive/My Drive/Datasets/Signature_Verify/',custom_objects={'contrastive_loss': contrastive_loss})"
      ],
      "execution_count": 18,
      "outputs": []
    },
    {
      "cell_type": "code",
      "metadata": {
        "id": "qbCR1bnshTJd",
        "colab_type": "code",
        "colab": {}
      },
      "source": [
        "model.compile(optimizer=tf.keras.optimizers.Adam(0.001),loss=contrastive_loss)"
      ],
      "execution_count": 19,
      "outputs": []
    },
    {
      "cell_type": "code",
      "metadata": {
        "id": "oGVOAzaF_oXI",
        "colab_type": "code",
        "colab": {}
      },
      "source": [
        "class mycallback(tf.keras.callbacks.Callback):\n",
        "  def on_train_batch_end(self, batch, logs={}):\n",
        "    if batch%100==0 :\n",
        "      self.model.save('/content/drive/My Drive/Datasets/Signature_Verify/')"
      ],
      "execution_count": 20,
      "outputs": []
    },
    {
      "cell_type": "code",
      "metadata": {
        "id": "4IEYTj1QhkrV",
        "colab_type": "code",
        "colab": {}
      },
      "source": [
        "train_generator=keras_train_gen(32)\n",
        "val_generator=keras_val_gen(32)"
      ],
      "execution_count": 21,
      "outputs": []
    },
    {
      "cell_type": "code",
      "metadata": {
        "id": "f-i8xJsfSZ8i",
        "colab_type": "code",
        "colab": {}
      },
      "source": [
        "history=model.fit_generator(train_generator,steps_per_epoch=len(dataset)//32,epochs=20,validation_data=val_generator,validation_steps=len(val_dataset)//32,callbacks=[mycallback()])"
      ],
      "execution_count": null,
      "outputs": []
    },
    {
      "cell_type": "code",
      "metadata": {
        "id": "LWoStfk_CP2k",
        "colab_type": "code",
        "colab": {
          "base_uri": "https://localhost:8080/",
          "height": 34
        },
        "outputId": "1700e94f-19ac-45ee-c89d-6fa6dff07cb6"
      },
      "source": [
        "model.save('/content/drive/My Drive/Datasets/Signature_Verify/')"
      ],
      "execution_count": null,
      "outputs": [
        {
          "output_type": "stream",
          "text": [
            "INFO:tensorflow:Assets written to: /content/drive/My Drive/Datasets/Signature_Verify/assets\n"
          ],
          "name": "stdout"
        }
      ]
    },
    {
      "cell_type": "code",
      "metadata": {
        "id": "g2iB_cFkeP7k",
        "colab_type": "code",
        "colab": {}
      },
      "source": [
        "eval_generator=keras_val_gen(32)\n",
        "x,y=next(eval_generator)\n",
        "y_pred=model.predict(x)\n",
        "avg_0=[]\n",
        "avg_1=[]\n",
        "for i in range(len(y_pred)):\n",
        "  if y[i,0]==0:\n",
        "    avg_0.append(y_pred[i])\n",
        "  else :\n",
        "    avg_1.append(y_pred[i])\n",
        "  print(\"Y_True : \"+str(y[i])+\"     Y_Pred : \"+str(y_pred[i]))"
      ],
      "execution_count": null,
      "outputs": []
    },
    {
      "cell_type": "code",
      "metadata": {
        "id": "GmT2tDyTg7wz",
        "colab_type": "code",
        "colab": {
          "base_uri": "https://localhost:8080/",
          "height": 34
        },
        "outputId": "fdf597c8-7bec-4f60-b927-04a064461067"
      },
      "source": [
        "np.average(avg_0)"
      ],
      "execution_count": 24,
      "outputs": [
        {
          "output_type": "execute_result",
          "data": {
            "text/plain": [
              "1.3244938776940813"
            ]
          },
          "metadata": {
            "tags": []
          },
          "execution_count": 24
        }
      ]
    },
    {
      "cell_type": "code",
      "metadata": {
        "id": "QdY4Gp6fg_bu",
        "colab_type": "code",
        "colab": {
          "base_uri": "https://localhost:8080/",
          "height": 34
        },
        "outputId": "2d8ae34a-8146-4070-92ae-213cd42e6371"
      },
      "source": [
        "np.average(avg_1)"
      ],
      "execution_count": 25,
      "outputs": [
        {
          "output_type": "execute_result",
          "data": {
            "text/plain": [
              "0.5668907520303599"
            ]
          },
          "metadata": {
            "tags": []
          },
          "execution_count": 25
        }
      ]
    },
    {
      "cell_type": "code",
      "metadata": {
        "id": "Rtq39X_6eWHh",
        "colab_type": "code",
        "colab": {}
      },
      "source": [
        "def find_accuracy(data_gen,steps,split):\n",
        "  acc=[]\n",
        "  precision=[]\n",
        "  recall=[]\n",
        "  e=1e-11\n",
        "  for i in range(steps):\n",
        "    x,y=next(data_gen)\n",
        "    y_pred=model.predict(x)\n",
        "\n",
        "    count=0\n",
        "    tp=e\n",
        "    fp=e\n",
        "    fn=e\n",
        "    for j in range(len(y_pred)):\n",
        "      if y[j,0]==0 and y_pred[j]>=split or y[j,0]==1 and y_pred[j]<split :\n",
        "        count+=1\n",
        "      if y[j,0]==1 and y_pred[j]<split : \n",
        "        tp+=1\n",
        "      if y[j,0]==0 and y_pred[j]<split :\n",
        "        fp+=1\n",
        "      if y[j,0]==1 and y_pred[j]>=split :\n",
        "        fn+=1\n",
        "\n",
        "    acc.append(count/len(y_pred))\n",
        "    precision.append(tp/(tp+fp))\n",
        "    recall.append(tp/(tp+fn))\n",
        "    output.clear(wait=True)\n",
        "    print(\"Acc. : \"+str(np.average(acc)))\n",
        "    print(\"Precision : \"+str(np.average(precision)))\n",
        "    print(\"Recall : \"+str(np.average(recall)))\n",
        "    plt.plot(range(len(acc)),acc,color=\"blue\")\n",
        "    plt.scatter(len(acc)-1,acc[len(acc)-1],color=\"red\")\n",
        "    plt.xlabel(\"Batches\")\n",
        "    plt.ylabel(\"Accuracy\")\n",
        "    plt.show()"
      ],
      "execution_count": 26,
      "outputs": []
    },
    {
      "cell_type": "code",
      "metadata": {
        "id": "UVWJjso6joae",
        "colab_type": "code",
        "colab": {
          "base_uri": "https://localhost:8080/",
          "height": 330
        },
        "outputId": "d177d432-f31a-44a9-9678-0da5f6d04102"
      },
      "source": [
        "find_accuracy(keras_val_gen(32),len(val_dataset)//32,0.90)"
      ],
      "execution_count": 27,
      "outputs": [
        {
          "output_type": "stream",
          "text": [
            "Acc. : 0.5822276536312849\n",
            "Precision : 0.5538583222791014\n",
            "Recall : 0.6885702955794156\n"
          ],
          "name": "stdout"
        },
        {
          "output_type": "display_data",
          "data": {
            "image/png": "[encoded data removed]",
            "text/plain": [
              "<Figure size 432x288 with 1 Axes>"
            ]
          },
          "metadata": {
            "tags": [],
            "needs_background": "light"
          }
        }
      ]
    },
    {
      "cell_type": "code",
      "metadata": {
        "id": "7wUI4wztjypI",
        "colab_type": "code",
        "colab": {}
      },
      "source": [
        ""
      ],
      "execution_count": null,
      "outputs": []
    }
  ]
}